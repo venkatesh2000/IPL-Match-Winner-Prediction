{
 "cells": [
  {
   "cell_type": "code",
   "execution_count": null,
   "metadata": {},
   "outputs": [],
   "source": [
    "import numpy as np\n",
    "import pandas as pd\n",
    "import matplotlib.pyplot as plt\n",
    "import tensorflow as tf\n",
    "pd.options.mode.chained_assignment = None"
   ]
  },
  {
   "cell_type": "code",
   "execution_count": null,
   "metadata": {},
   "outputs": [],
   "source": [
    "dataset = pd.DataFrame(pd.read_csv('Dataset/matches1234.csv'))\n",
    "dataset.head()"
   ]
  },
  {
   "cell_type": "code",
   "execution_count": null,
   "metadata": {},
   "outputs": [],
   "source": [
    "dataset.isnull().any()"
   ]
  },
  {
   "cell_type": "code",
   "execution_count": null,
   "metadata": {},
   "outputs": [],
   "source": [
    "dataset['city'].fillna('Dubai', inplace=True)\n",
    "dataset['umpire1'].fillna('S Ravi', inplace=True)"
   ]
  },
  {
   "cell_type": "code",
   "execution_count": null,
   "metadata": {},
   "outputs": [],
   "source": [
    "dataset.isnull().any()"
   ]
  },
  {
   "cell_type": "code",
   "execution_count": null,
   "metadata": {},
   "outputs": [],
   "source": [
    "dataset.replace(['Mumbai Indians', 'Kolkata Knight Riders', 'Royal Challengers Bangalore', 'Deccan Chargers',\n",
    "                 'Chennai Super Kings', 'Rajasthan Royals', 'Delhi Daredevils', 'Gujarat Lions', 'Kings XI Punjab',\n",
    "                 'Sunrisers Hyderabad', 'Rising Pune Supergiants', 'Kochi Tuskers Kerala', 'Pune Warriors'],\n",
    "                ['MI','KKR','RCB','DC','CSK','RR','DD','GL','KXIP','SRH','RPS','KTK','PW'],\n",
    "                inplace=True)\n",
    "\n",
    "encode = {'team1': {'MI': 1, 'KKR': 2, 'RCB': 3, 'DC': 4, 'CSK': 5, 'RR': 6, 'DD': 7, 'GL': 8, 'KXIP': 9, 'SRH': 10, 'RPS': 11,\n",
    "                    'KTK': 12, 'PW': 13},\n",
    "          'team2': {'MI': 1, 'KKR': 2, 'RCB': 3, 'DC': 4, 'CSK': 5, 'RR': 6, 'DD': 7, 'GL': 8, 'KXIP': 9, 'SRH': 10, 'RPS': 11,\n",
    "                    'KTK': 12, 'PW': 13},\n",
    "          'toss_winner': {'MI': 1, 'KKR': 2, 'RCB': 3, 'DC': 4, 'CSK': 5, 'RR': 6, 'DD': 7, 'GL': 8, 'KXIP': 9, 'SRH': 10, 'RPS': 11,\n",
    "                        'KTK': 12, 'PW': 13},\n",
    "          'winner': {'MI': 1, 'KKR': 2, 'RCB': 3, 'DC': 4, 'CSK': 5, 'RR': 6, 'DD': 7, 'GL': 8, 'KXIP': 9, 'SRH': 10, 'RPS': 11,\n",
    "                     'KTK': 12, 'PW': 13, 'Draw': 14}}\n",
    "dataset.replace(encode, inplace=True)"
   ]
  },
  {
   "cell_type": "code",
   "execution_count": null,
   "metadata": {},
   "outputs": [],
   "source": [
    "dataset.head()"
   ]
  },
  {
   "cell_type": "code",
   "execution_count": null,
   "metadata": {},
   "outputs": [],
   "source": [
    "X = pd.DataFrame(dataset[['season', 'city', 'team1', 'team2', 'toss_winner', 'toss_decision', 'venue', 'umpire1']])\n",
    "y = pd.DataFrame(dataset[['winner']])"
   ]
  },
  {
   "cell_type": "code",
   "execution_count": null,
   "metadata": {
    "scrolled": true
   },
   "outputs": [],
   "source": [
    "from sklearn.model_selection import train_test_split\n",
    "X_model, X_test, y_model, y_test = train_test_split(X, y, test_size=0.2, random_state=0)\n",
    "X_train, X_val, y_train, y_val = train_test_split(X_model, y_model, test_size=0.2, random_state=0)"
   ]
  },
  {
   "cell_type": "code",
   "execution_count": null,
   "metadata": {},
   "outputs": [],
   "source": [
    "from sklearn.preprocessing import LabelEncoder\n",
    "le = LabelEncoder()\n",
    "le2 = LabelEncoder()\n",
    "le3 = LabelEncoder()\n",
    "cols = ['city', 'toss_decision', 'venue', 'umpire1']\n",
    "for col in cols:\n",
    "    X[col] = le3.fit_transform(X[col])\n",
    "    X_model[col] = le2.fit_transform(X_model[col])\n",
    "    X_train[col] = le.fit_transform(X_train[col])\n",
    "    X_val[col] = le.transform(X_val[col])\n",
    "    X_test[col] = le.transform(X_test[col])"
   ]
  },
  {
   "cell_type": "code",
   "execution_count": null,
   "metadata": {},
   "outputs": [],
   "source": [
    "from sklearn.preprocessing import StandardScaler\n",
    "sc = StandardScaler()\n",
    "sc2 = StandardScaler()\n",
    "sc3 = StandardScaler()\n",
    "X = sc3.fit_transform(X)\n",
    "X_model = sc2.fit_transform(X_model)\n",
    "X_train = sc.fit_transform(X_train)\n",
    "X_val = sc.transform(X_val)\n",
    "X_test = sc.transform(X_test)"
   ]
  },
  {
   "cell_type": "code",
   "execution_count": null,
   "metadata": {},
   "outputs": [],
   "source": [
    "from sklearn.linear_model import LogisticRegression\n",
    "classifier = LogisticRegression()\n",
    "classifier.fit(X_train, y_train.values.ravel())"
   ]
  },
  {
   "cell_type": "code",
   "execution_count": null,
   "metadata": {},
   "outputs": [],
   "source": [
    "print(classifier.score(X_train, y_train))\n",
    "print(classifier.score(X_test, y_test))"
   ]
  },
  {
   "cell_type": "code",
   "execution_count": null,
   "metadata": {},
   "outputs": [],
   "source": [
    "from sklearn.naive_bayes import GaussianNB\n",
    "classifier = GaussianNB()\n",
    "classifier.fit(X_train, y_train.values.ravel())\n",
    "print(classifier.score(X_train, y_train))\n",
    "print(classifier.score(X_test, y_test))"
   ]
  },
  {
   "cell_type": "code",
   "execution_count": null,
   "metadata": {},
   "outputs": [],
   "source": [
    "print(classifier.score(X_train, y_train))\n",
    "print(classifier.score(X_test, y_test))"
   ]
  },
  {
   "cell_type": "code",
   "execution_count": null,
   "metadata": {},
   "outputs": [],
   "source": [
    "from sklearn.neighbors import KNeighborsClassifier\n",
    "classifier = KNeighborsClassifier()\n",
    "classifier.fit(X_train, y_train.values.ravel())"
   ]
  },
  {
   "cell_type": "code",
   "execution_count": null,
   "metadata": {},
   "outputs": [],
   "source": [
    "print(classifier.score(X_train, y_train))\n",
    "print(classifier.score(X_test, y_test))"
   ]
  },
  {
   "cell_type": "code",
   "execution_count": null,
   "metadata": {},
   "outputs": [],
   "source": [
    "from sklearn.svm import SVC\n",
    "classifier = SVC(kernel = 'linear')\n",
    "classifier.fit(X_train, y_train.values.ravel())"
   ]
  },
  {
   "cell_type": "code",
   "execution_count": null,
   "metadata": {},
   "outputs": [],
   "source": [
    "print(classifier.score(X_train, y_train))\n",
    "print(classifier.score(X_test, y_test))"
   ]
  },
  {
   "cell_type": "code",
   "execution_count": null,
   "metadata": {},
   "outputs": [],
   "source": [
    "from sklearn.svm import SVC\n",
    "classifier = SVC(kernel = 'rbf')\n",
    "classifier.fit(X_train, y_train.values.ravel())"
   ]
  },
  {
   "cell_type": "code",
   "execution_count": null,
   "metadata": {
    "scrolled": true
   },
   "outputs": [],
   "source": [
    "print(classifier.score(X_train, y_train))\n",
    "print(classifier.score(X_test, y_test))"
   ]
  },
  {
   "cell_type": "code",
   "execution_count": null,
   "metadata": {},
   "outputs": [],
   "source": [
    "from sklearn.tree import DecisionTreeClassifier\n",
    "classifier = DecisionTreeClassifier()\n",
    "classifier.fit(X_train, y_train.values.ravel())\n",
    "print(classifier.score(X_train, y_train))\n",
    "print(classifier.score(X_test, y_test))"
   ]
  },
  {
   "cell_type": "code",
   "execution_count": null,
   "metadata": {},
   "outputs": [],
   "source": [
    "train_score = []\n",
    "val_score = []\n",
    "for depth in np.arange(1, 15):\n",
    "    classifier = DecisionTreeClassifier(max_depth=depth, min_samples_leaf=5)\n",
    "    classifier.fit(X_train, y_train)\n",
    "    train_score.append(classifier.score(X_train, y_train))\n",
    "    val_score.append(classifier.score(X_val, y_val))\n",
    "\n",
    "plt.plot(np.arange(1, 15), train_score)\n",
    "plt.plot(np.arange(1, 15), val_score)\n",
    "plt.legend(['Training Accuracy','Validation Accuracy'])\n",
    "plt.title('Decision Tree Tuning')\n",
    "plt.xlabel('Depth')\n",
    "plt.ylabel('Accuracy')"
   ]
  },
  {
   "cell_type": "code",
   "execution_count": null,
   "metadata": {},
   "outputs": [],
   "source": [
    "train_score = []\n",
    "val_score = []\n",
    "for leaf in np.arange(10, 20):\n",
    "    classifier = DecisionTreeClassifier(max_depth=7, min_samples_leaf=leaf)\n",
    "    classifier.fit(X_train, y_train)\n",
    "    train_score.append(classifier.score(X_train, y_train))\n",
    "    val_score.append(classifier.score(X_val, y_val))\n",
    "\n",
    "plt.plot(np.arange(10, 20), train_score)\n",
    "plt.plot(np.arange(10, 20), val_score)\n",
    "plt.legend(['Training Accuracy','Validation Accuracy'])\n",
    "plt.title('Decision Tree Tuning')\n",
    "plt.xlabel('Minimum Samples Leaf')\n",
    "plt.ylabel('Accuracy')"
   ]
  },
  {
   "cell_type": "code",
   "execution_count": null,
   "metadata": {},
   "outputs": [],
   "source": [
    "classifier = DecisionTreeClassifier(max_depth=7, min_samples_leaf=14)\n",
    "classifier.fit(X_train, y_train.values.ravel())\n",
    "print(classifier.score(X_train, y_train))\n",
    "print(classifier.score(X_test, y_test))"
   ]
  },
  {
   "cell_type": "code",
   "execution_count": null,
   "metadata": {},
   "outputs": [],
   "source": [
    "from sklearn.ensemble import RandomForestClassifier\n",
    "classifier = RandomForestClassifier(random_state=1)\n",
    "classifier.fit(X_train, y_train.values.ravel())\n",
    "print(classifier.score(X_train, y_train))\n",
    "print(classifier.score(X_test, y_test))"
   ]
  },
  {
   "cell_type": "code",
   "execution_count": null,
   "metadata": {},
   "outputs": [],
   "source": [
    "train_score = []\n",
    "val_score = []\n",
    "for n_estimators in np.arange(1, 50):\n",
    "    classifier = RandomForestClassifier(n_estimators=n_estimators, n_jobs=-1, random_state=1)\n",
    "    classifier.fit(X_train, y_train.values.ravel())\n",
    "    train_score.append(classifier.score(X_train, y_train))\n",
    "    val_score.append(classifier.score(X_val, y_val))\n",
    "\n",
    "plt.plot(np.arange(1, 50), train_score)\n",
    "plt.plot(np.arange(1, 50), val_score)\n",
    "plt.legend(['Training Accuracy','Validation Accuracy'])\n",
    "plt.title('Random Forest Tuning')\n",
    "plt.xlabel('Number of Decision Trees')\n",
    "plt.ylabel('Accuracy')"
   ]
  },
  {
   "cell_type": "code",
   "execution_count": null,
   "metadata": {},
   "outputs": [],
   "source": [
    "train_score = []\n",
    "val_score = []\n",
    "for min_samples_leaf in np.arange(1, 40):\n",
    "    classifier = RandomForestClassifier(min_samples_leaf=min_samples_leaf, n_jobs=-1, random_state=1)\n",
    "    classifier.fit(X_train, y_train.values.ravel())\n",
    "    train_score.append(classifier.score(X_train, y_train))\n",
    "    val_score.append(classifier.score(X_val, y_val))\n",
    "\n",
    "plt.plot(np.arange(1, 40), train_score)\n",
    "plt.plot(np.arange(1, 40), val_score)\n",
    "plt.legend(['Training Accuracy','Validation Accuracy'])\n",
    "plt.title('Random Forest Tuning')\n",
    "plt.xlabel('Minimum Number of Samples at Leaf Node')\n",
    "plt.ylabel('Accuracy')"
   ]
  },
  {
   "cell_type": "code",
   "execution_count": null,
   "metadata": {},
   "outputs": [],
   "source": [
    "from sklearn.model_selection import GridSearchCV, cross_validate\n",
    "import math\n",
    "gsc = GridSearchCV(\n",
    "        estimator=RandomForestClassifier(n_jobs=-1),\n",
    "        param_grid={'max_depth': [10, 20, 30, 40, 50, 60, 70, 80, 90, 100, None],\n",
    "                     'min_samples_leaf': [1, 10, 20, 30, 40, 50, 60, 70, 80, 90, 100],\n",
    "                     'n_estimators': [10, 20, 30, 40, 50, 60, 70, 80, 90, 100]\n",
    "                   }, cv=5, scoring='neg_mean_squared_error', verbose=0, n_jobs=-1)\n",
    "\n",
    "grid_result = gsc.fit(X, y)\n",
    "best_params = grid_result.best_params_\n",
    "best_rfc = RandomForestClassifier(n_estimators=best_params['n_estimators'], min_samples_leaf=best_params['min_samples_leaf'], max_depth=best_params['max_depth'])\n",
    "\n",
    "scoring = {\n",
    "           'abs_error': 'neg_mean_absolute_error',\n",
    "           'squared_error': 'neg_mean_squared_error'\n",
    "          }\n",
    "\n",
    "scores = cross_validate(best_rfc, X, y, cv=10, scoring=scoring, return_train_score=True)\n",
    "print(\"MAE :\", abs(scores['test_abs_error'].mean()), \"| RMSE :\", math.sqrt(abs(scores['test_squared_error'].mean())))"
   ]
  },
  {
   "cell_type": "code",
   "execution_count": null,
   "metadata": {},
   "outputs": [],
   "source": [
    "print(best_params)\n",
    "best_rfc = RandomForestClassifier(max_depth=None, min_samples_leaf=1, n_estimators=100, random_state=1)\n",
    "best_rfc.fit(X_train, y_train.values.ravel())\n",
    "print(best_rfc.score(X_model, y_model))\n",
    "print(best_rfc.score(X_test, y_test))"
   ]
  },
  {
   "cell_type": "code",
   "execution_count": null,
   "metadata": {},
   "outputs": [],
   "source": [
    "from xgboost import XGBClassifier\n",
    "classifier = XGBClassifier()\n",
    "classifier.fit(X_model, y_model.values.ravel())"
   ]
  },
  {
   "cell_type": "code",
   "execution_count": null,
   "metadata": {},
   "outputs": [],
   "source": [
    "print(classifier.score(X_train, y_train))\n",
    "print(classifier.score(X_test, y_test))"
   ]
  },
  {
   "cell_type": "code",
   "execution_count": null,
   "metadata": {},
   "outputs": [],
   "source": [
    "from sklearn.model_selection import GridSearchCV, cross_validate\n",
    "import math\n",
    "param_test1 = {\n",
    " 'max_depth':range(3,10,2),\n",
    " 'min_child_weight':range(1,10,2)\n",
    "}\n",
    "gsc = GridSearchCV(\n",
    "        estimator=XGBClassifier(objective='multi:softprob', n_jobs=-1),\n",
    "        param_grid=param_test1, cv=5, scoring='neg_mean_squared_error', n_jobs=-1)\n",
    "\n",
    "grid_result = gsc.fit(X, y)\n",
    "best_params = grid_result.best_params_\n",
    "best_xgb = XGBClassifier(min_child_weight=best_params['min_child_weight'], max_depth=best_params['max_depth'], n_jobs=-1)\n",
    "\n",
    "scoring = {\n",
    "           'abs_error': 'neg_mean_absolute_error',\n",
    "           'squared_error': 'neg_mean_squared_error'\n",
    "          }\n",
    "\n",
    "scores = cross_validate(best_xgb, X, y, cv=10, scoring=scoring, return_train_score=True)\n",
    "print(\"MAE :\", abs(scores['test_abs_error'].mean()), \"| RMSE :\", math.sqrt(abs(scores['test_squared_error'].mean())))"
   ]
  },
  {
   "cell_type": "code",
   "execution_count": null,
   "metadata": {},
   "outputs": [],
   "source": [
    "print(best_params)\n",
    "best_xgb = XGBClassifier(min_child_weight=best_params['min_child_weight'], max_depth=best_params['max_depth'], n_jobs=-1)\n",
    "best_xgb.fit(X_train, y_train)\n",
    "print(best_xgb.score(X_train, y_train))\n",
    "print(best_xgb.score(X_test, y_test))"
   ]
  },
  {
   "cell_type": "code",
   "execution_count": null,
   "metadata": {},
   "outputs": [],
   "source": []
  }
 ],
 "metadata": {
  "kernelspec": {
   "display_name": "Python 3",
   "language": "python",
   "name": "python3"
  },
  "language_info": {
   "codemirror_mode": {
    "name": "ipython",
    "version": 3
   },
   "file_extension": ".py",
   "mimetype": "text/x-python",
   "name": "python",
   "nbconvert_exporter": "python",
   "pygments_lexer": "ipython3",
   "version": "3.7.7"
  }
 },
 "nbformat": 4,
 "nbformat_minor": 4
}
